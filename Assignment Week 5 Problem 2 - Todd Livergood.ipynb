{
 "cells": [
  {
   "cell_type": "markdown",
   "metadata": {},
   "source": [
    "1.)  First, import all of the libraries we might need."
   ]
  },
  {
   "cell_type": "code",
   "execution_count": 1,
   "metadata": {},
   "outputs": [],
   "source": [
    "from sklearn.model_selection import train_test_split\n",
    "import pandas as pd\n",
    "from sklearn.tree import DecisionTreeClassifier\n",
    "from sklearn.model_selection import GridSearchCV\n",
    "from sklearn.metrics import mean_absolute_error, r2_score\n",
    "from sklearn.tree import export_graphviz\n",
    "import graphviz\n",
    "from sklearn import datasets\n",
    "from sklearn.metrics import accuracy_score, confusion_matrix\n"
   ]
  },
  {
   "cell_type": "markdown",
   "metadata": {},
   "source": [
    "2.) Load the dataset.  Note: In doing some research online I verified that Class = 1 means that the bank note is authentic. "
   ]
  },
  {
   "cell_type": "code",
   "execution_count": 2,
   "metadata": {},
   "outputs": [
    {
     "data": {
      "text/html": [
       "<div>\n",
       "<style scoped>\n",
       "    .dataframe tbody tr th:only-of-type {\n",
       "        vertical-align: middle;\n",
       "    }\n",
       "\n",
       "    .dataframe tbody tr th {\n",
       "        vertical-align: top;\n",
       "    }\n",
       "\n",
       "    .dataframe thead th {\n",
       "        text-align: right;\n",
       "    }\n",
       "</style>\n",
       "<table border=\"1\" class=\"dataframe\">\n",
       "  <thead>\n",
       "    <tr style=\"text-align: right;\">\n",
       "      <th></th>\n",
       "      <th>Variance</th>\n",
       "      <th>Skewness</th>\n",
       "      <th>Curtosis</th>\n",
       "      <th>Entropy</th>\n",
       "      <th>Class</th>\n",
       "    </tr>\n",
       "  </thead>\n",
       "  <tbody>\n",
       "    <tr>\n",
       "      <th>0</th>\n",
       "      <td>3.62160</td>\n",
       "      <td>8.6661</td>\n",
       "      <td>-2.8073</td>\n",
       "      <td>-0.44699</td>\n",
       "      <td>0</td>\n",
       "    </tr>\n",
       "    <tr>\n",
       "      <th>1</th>\n",
       "      <td>4.54590</td>\n",
       "      <td>8.1674</td>\n",
       "      <td>-2.4586</td>\n",
       "      <td>-1.46210</td>\n",
       "      <td>0</td>\n",
       "    </tr>\n",
       "    <tr>\n",
       "      <th>2</th>\n",
       "      <td>3.86600</td>\n",
       "      <td>-2.6383</td>\n",
       "      <td>1.9242</td>\n",
       "      <td>0.10645</td>\n",
       "      <td>0</td>\n",
       "    </tr>\n",
       "    <tr>\n",
       "      <th>3</th>\n",
       "      <td>3.45660</td>\n",
       "      <td>9.5228</td>\n",
       "      <td>-4.0112</td>\n",
       "      <td>-3.59440</td>\n",
       "      <td>0</td>\n",
       "    </tr>\n",
       "    <tr>\n",
       "      <th>4</th>\n",
       "      <td>0.32924</td>\n",
       "      <td>-4.4552</td>\n",
       "      <td>4.5718</td>\n",
       "      <td>-0.98880</td>\n",
       "      <td>0</td>\n",
       "    </tr>\n",
       "  </tbody>\n",
       "</table>\n",
       "</div>"
      ],
      "text/plain": [
       "   Variance  Skewness  Curtosis  Entropy  Class\n",
       "0   3.62160    8.6661   -2.8073 -0.44699      0\n",
       "1   4.54590    8.1674   -2.4586 -1.46210      0\n",
       "2   3.86600   -2.6383    1.9242  0.10645      0\n",
       "3   3.45660    9.5228   -4.0112 -3.59440      0\n",
       "4   0.32924   -4.4552    4.5718 -0.98880      0"
      ]
     },
     "execution_count": 2,
     "metadata": {},
     "output_type": "execute_result"
    }
   ],
   "source": [
    "billauth_df = pd.read_csv(\"bill_authentication.csv\")\n",
    "billauth_df.head()"
   ]
  },
  {
   "cell_type": "markdown",
   "metadata": {},
   "source": [
    "3.)  Divide dataset into train and test sets"
   ]
  },
  {
   "cell_type": "code",
   "execution_count": 3,
   "metadata": {},
   "outputs": [],
   "source": [
    "X_train, X_test, Y_train, Y_test = train_test_split(billauth_df.drop('Class', axis=1), billauth_df['Class'], test_size=0.2, random_state=122)\n"
   ]
  },
  {
   "cell_type": "markdown",
   "metadata": {},
   "source": [
    "3.) First let's create our 'full tree' without restricting any of the hyperparameters.  We'll fit the tree using the train dataset."
   ]
  },
  {
   "cell_type": "code",
   "execution_count": 10,
   "metadata": {},
   "outputs": [
    {
     "data": {
      "text/plain": [
       "DecisionTreeClassifier(class_weight=None, criterion='gini', max_depth=None,\n",
       "            max_features=None, max_leaf_nodes=None,\n",
       "            min_impurity_decrease=0.0, min_impurity_split=None,\n",
       "            min_samples_leaf=1, min_samples_split=2,\n",
       "            min_weight_fraction_leaf=0.0, presort=False, random_state=123,\n",
       "            splitter='best')"
      ]
     },
     "execution_count": 10,
     "metadata": {},
     "output_type": "execute_result"
    }
   ],
   "source": [
    "full_tree = DecisionTreeClassifier(random_state=123)\n",
    "full_tree.fit(X_train, Y_train)"
   ]
  },
  {
   "cell_type": "markdown",
   "metadata": {},
   "source": [
    "4.)  Now we'll make some predictions with this full tree, and calculate accuracy score to get a baseline for how well it performed."
   ]
  },
  {
   "cell_type": "code",
   "execution_count": 11,
   "metadata": {},
   "outputs": [],
   "source": [
    "predictions = full_tree.predict(X_test)"
   ]
  },
  {
   "cell_type": "code",
   "execution_count": 12,
   "metadata": {},
   "outputs": [
    {
     "data": {
      "text/plain": [
       "0.9854545454545455"
      ]
     },
     "execution_count": 12,
     "metadata": {},
     "output_type": "execute_result"
    }
   ],
   "source": [
    "accuracy_score(Y_test,predictions)"
   ]
  },
  {
   "cell_type": "code",
   "execution_count": 9,
   "metadata": {},
   "outputs": [],
   "source": [
    "#dot_data = export_graphviz(full_tree, filled=True, rounded=True, feature_names=X_train.columns, out_file=None)\n",
    "#graphviz.Source(dot_data)"
   ]
  },
  {
   "cell_type": "markdown",
   "metadata": {},
   "source": [
    "I'm a little suprised that when testing the full tree on the test dataset, that the accuracy was so high.  My fear is that there's still overfitting happening, as in visualizing the tree it is quite large.  I want to go through the pruning exercise to see if I can get soemthing that seems more reasonable."
   ]
  },
  {
   "cell_type": "markdown",
   "metadata": {},
   "source": [
    "5.)  Next, I'll use Gridsearch to find the optimal number of hyperparameters to use in my decision\n",
    "tree.  Will try out several different combinations.  Will use 10 folds for cross validation."
   ]
  },
  {
   "cell_type": "code",
   "execution_count": 13,
   "metadata": {},
   "outputs": [],
   "source": [
    "param_grid = [{\"max_features\":[None,1,2,3],\"max_depth\":[3, 4, 5, 6,7,8,None],\"min_samples_split\":[10,25,50,75,100]}]\n",
    "gs = GridSearchCV(estimator=DecisionTreeClassifier(random_state=122), param_grid = param_grid, cv=10)"
   ]
  },
  {
   "cell_type": "markdown",
   "metadata": {},
   "source": [
    "6.)  Now, will fit the data on the train set, and print out the different combinations that Gridsearch has tried...(note since there were so many different combinations I commented this step out for purposes of submitting assignment.)"
   ]
  },
  {
   "cell_type": "code",
   "execution_count": 14,
   "metadata": {},
   "outputs": [
    {
     "name": "stderr",
     "output_type": "stream",
     "text": [
      "C:\\Users\\Todd\\Anaconda3\\lib\\site-packages\\sklearn\\model_selection\\_search.py:841: DeprecationWarning: The default of the `iid` parameter will change from True to False in version 0.22 and will be removed in 0.24. This will change numeric results when test-set sizes are unequal.\n",
      "  DeprecationWarning)\n"
     ]
    },
    {
     "data": {
      "text/plain": [
       "GridSearchCV(cv=10, error_score='raise-deprecating',\n",
       "       estimator=DecisionTreeClassifier(class_weight=None, criterion='gini', max_depth=None,\n",
       "            max_features=None, max_leaf_nodes=None,\n",
       "            min_impurity_decrease=0.0, min_impurity_split=None,\n",
       "            min_samples_leaf=1, min_samples_split=2,\n",
       "            min_weight_fraction_leaf=0.0, presort=False, random_state=122,\n",
       "            splitter='best'),\n",
       "       fit_params=None, iid='warn', n_jobs=None,\n",
       "       param_grid=[{'max_features': [None, 1, 2, 3], 'max_depth': [3, 4, 5, 6, 7, 8, None], 'min_samples_split': [10, 25, 50, 75, 100]}],\n",
       "       pre_dispatch='2*n_jobs', refit=True, return_train_score='warn',\n",
       "       scoring=None, verbose=0)"
      ]
     },
     "execution_count": 14,
     "metadata": {},
     "output_type": "execute_result"
    }
   ],
   "source": [
    "gs.fit(X_train, Y_train)\n",
    "#gs.cv_results_['params']  "
   ]
  },
  {
   "cell_type": "markdown",
   "metadata": {},
   "source": [
    "...and will print the best hyperparameter combination."
   ]
  },
  {
   "cell_type": "code",
   "execution_count": 15,
   "metadata": {},
   "outputs": [
    {
     "data": {
      "text/plain": [
       "{'max_depth': 6, 'max_features': 3, 'min_samples_split': 10}"
      ]
     },
     "execution_count": 15,
     "metadata": {},
     "output_type": "execute_result"
    }
   ],
   "source": [
    "gs.best_params_"
   ]
  },
  {
   "cell_type": "markdown",
   "metadata": {},
   "source": [
    "From the output, it looks like the best combination of hyperparameters to use is a tree with max depth = 6, maximum features = 3, and minimum samples required for any split to be 10.  "
   ]
  },
  {
   "cell_type": "markdown",
   "metadata": {},
   "source": [
    "7.)  Now we can use these hyperparameter values to create a new 'pruned' tree.  Let's also visualize this as now the tree will be a reasonable size that we can look at."
   ]
  },
  {
   "cell_type": "code",
   "execution_count": 16,
   "metadata": {},
   "outputs": [
    {
     "data": {
      "image/svg+xml": [
       "<?xml version=\"1.0\" encoding=\"UTF-8\" standalone=\"no\"?>\r\n",
       "<!DOCTYPE svg PUBLIC \"-//W3C//DTD SVG 1.1//EN\"\r\n",
       " \"http://www.w3.org/Graphics/SVG/1.1/DTD/svg11.dtd\">\r\n",
       "<!-- Generated by graphviz version 2.38.0 (20140413.2041)\r\n",
       " -->\r\n",
       "<!-- Title: Tree Pages: 1 -->\r\n",
       "<svg width=\"1490pt\" height=\"685pt\"\r\n",
       " viewBox=\"0.00 0.00 1490.00 685.00\" xmlns=\"http://www.w3.org/2000/svg\" xmlns:xlink=\"http://www.w3.org/1999/xlink\">\r\n",
       "<g id=\"graph0\" class=\"graph\" transform=\"scale(1 1) rotate(0) translate(4 681)\">\r\n",
       "<title>Tree</title>\r\n",
       "<polygon fill=\"white\" stroke=\"none\" points=\"-4,4 -4,-681 1486,-681 1486,4 -4,4\"/>\r\n",
       "<!-- 0 -->\r\n",
       "<g id=\"node1\" class=\"node\"><title>0</title>\r\n",
       "<path fill=\"#e58139\" fill-opacity=\"0.188235\" stroke=\"black\" d=\"M843.5,-677C843.5,-677 737.5,-677 737.5,-677 731.5,-677 725.5,-671 725.5,-665 725.5,-665 725.5,-621 725.5,-621 725.5,-615 731.5,-609 737.5,-609 737.5,-609 843.5,-609 843.5,-609 849.5,-609 855.5,-615 855.5,-621 855.5,-621 855.5,-665 855.5,-665 855.5,-671 849.5,-677 843.5,-677\"/>\r\n",
       "<text text-anchor=\"middle\" x=\"790.5\" y=\"-661.8\" font-family=\"Helvetica,sans-Serif\" font-size=\"14.00\">Variance &lt;= 0.32</text>\r\n",
       "<text text-anchor=\"middle\" x=\"790.5\" y=\"-646.8\" font-family=\"Helvetica,sans-Serif\" font-size=\"14.00\">gini = 0.495</text>\r\n",
       "<text text-anchor=\"middle\" x=\"790.5\" y=\"-631.8\" font-family=\"Helvetica,sans-Serif\" font-size=\"14.00\">samples = 1097</text>\r\n",
       "<text text-anchor=\"middle\" x=\"790.5\" y=\"-616.8\" font-family=\"Helvetica,sans-Serif\" font-size=\"14.00\">value = [606, 491]</text>\r\n",
       "</g>\r\n",
       "<!-- 1 -->\r\n",
       "<g id=\"node2\" class=\"node\"><title>1</title>\r\n",
       "<path fill=\"#399de5\" fill-opacity=\"0.768627\" stroke=\"black\" d=\"M741,-573C741,-573 622,-573 622,-573 616,-573 610,-567 610,-561 610,-561 610,-517 610,-517 610,-511 616,-505 622,-505 622,-505 741,-505 741,-505 747,-505 753,-511 753,-517 753,-517 753,-561 753,-561 753,-567 747,-573 741,-573\"/>\r\n",
       "<text text-anchor=\"middle\" x=\"681.5\" y=\"-557.8\" font-family=\"Helvetica,sans-Serif\" font-size=\"14.00\">Skewness &lt;= 5.906</text>\r\n",
       "<text text-anchor=\"middle\" x=\"681.5\" y=\"-542.8\" font-family=\"Helvetica,sans-Serif\" font-size=\"14.00\">gini = 0.304</text>\r\n",
       "<text text-anchor=\"middle\" x=\"681.5\" y=\"-527.8\" font-family=\"Helvetica,sans-Serif\" font-size=\"14.00\">samples = 529</text>\r\n",
       "<text text-anchor=\"middle\" x=\"681.5\" y=\"-512.8\" font-family=\"Helvetica,sans-Serif\" font-size=\"14.00\">value = [99, 430]</text>\r\n",
       "</g>\r\n",
       "<!-- 0&#45;&gt;1 -->\r\n",
       "<g id=\"edge1\" class=\"edge\"><title>0&#45;&gt;1</title>\r\n",
       "<path fill=\"none\" stroke=\"black\" d=\"M755.111,-608.884C745.402,-599.798 734.766,-589.845 724.673,-580.4\"/>\r\n",
       "<polygon fill=\"black\" stroke=\"black\" points=\"726.778,-577.577 717.085,-573.299 721.995,-582.688 726.778,-577.577\"/>\r\n",
       "<text text-anchor=\"middle\" x=\"717.914\" y=\"-594.586\" font-family=\"Helvetica,sans-Serif\" font-size=\"14.00\">True</text>\r\n",
       "</g>\r\n",
       "<!-- 20 -->\r\n",
       "<g id=\"node21\" class=\"node\"><title>20</title>\r\n",
       "<path fill=\"#e58139\" fill-opacity=\"0.878431\" stroke=\"black\" d=\"M954.5,-573C954.5,-573 844.5,-573 844.5,-573 838.5,-573 832.5,-567 832.5,-561 832.5,-561 832.5,-517 832.5,-517 832.5,-511 838.5,-505 844.5,-505 844.5,-505 954.5,-505 954.5,-505 960.5,-505 966.5,-511 966.5,-517 966.5,-517 966.5,-561 966.5,-561 966.5,-567 960.5,-573 954.5,-573\"/>\r\n",
       "<text text-anchor=\"middle\" x=\"899.5\" y=\"-557.8\" font-family=\"Helvetica,sans-Serif\" font-size=\"14.00\">Curtosis &lt;= &#45;4.386</text>\r\n",
       "<text text-anchor=\"middle\" x=\"899.5\" y=\"-542.8\" font-family=\"Helvetica,sans-Serif\" font-size=\"14.00\">gini = 0.192</text>\r\n",
       "<text text-anchor=\"middle\" x=\"899.5\" y=\"-527.8\" font-family=\"Helvetica,sans-Serif\" font-size=\"14.00\">samples = 568</text>\r\n",
       "<text text-anchor=\"middle\" x=\"899.5\" y=\"-512.8\" font-family=\"Helvetica,sans-Serif\" font-size=\"14.00\">value = [507, 61]</text>\r\n",
       "</g>\r\n",
       "<!-- 0&#45;&gt;20 -->\r\n",
       "<g id=\"edge20\" class=\"edge\"><title>0&#45;&gt;20</title>\r\n",
       "<path fill=\"none\" stroke=\"black\" d=\"M825.889,-608.884C835.598,-599.798 846.234,-589.845 856.327,-580.4\"/>\r\n",
       "<polygon fill=\"black\" stroke=\"black\" points=\"859.005,-582.688 863.915,-573.299 854.222,-577.577 859.005,-582.688\"/>\r\n",
       "<text text-anchor=\"middle\" x=\"863.086\" y=\"-594.586\" font-family=\"Helvetica,sans-Serif\" font-size=\"14.00\">False</text>\r\n",
       "</g>\r\n",
       "<!-- 2 -->\r\n",
       "<g id=\"node3\" class=\"node\"><title>2</title>\r\n",
       "<path fill=\"#399de5\" fill-opacity=\"0.949020\" stroke=\"black\" d=\"M463.5,-469C463.5,-469 357.5,-469 357.5,-469 351.5,-469 345.5,-463 345.5,-457 345.5,-457 345.5,-413 345.5,-413 345.5,-407 351.5,-401 357.5,-401 357.5,-401 463.5,-401 463.5,-401 469.5,-401 475.5,-407 475.5,-413 475.5,-413 475.5,-457 475.5,-457 475.5,-463 469.5,-469 463.5,-469\"/>\r\n",
       "<text text-anchor=\"middle\" x=\"410.5\" y=\"-453.8\" font-family=\"Helvetica,sans-Serif\" font-size=\"14.00\">Curtosis &lt;= 6.219</text>\r\n",
       "<text text-anchor=\"middle\" x=\"410.5\" y=\"-438.8\" font-family=\"Helvetica,sans-Serif\" font-size=\"14.00\">gini = 0.094</text>\r\n",
       "<text text-anchor=\"middle\" x=\"410.5\" y=\"-423.8\" font-family=\"Helvetica,sans-Serif\" font-size=\"14.00\">samples = 423</text>\r\n",
       "<text text-anchor=\"middle\" x=\"410.5\" y=\"-408.8\" font-family=\"Helvetica,sans-Serif\" font-size=\"14.00\">value = [21, 402]</text>\r\n",
       "</g>\r\n",
       "<!-- 1&#45;&gt;2 -->\r\n",
       "<g id=\"edge2\" class=\"edge\"><title>1&#45;&gt;2</title>\r\n",
       "<path fill=\"none\" stroke=\"black\" d=\"M609.943,-511.067C571.634,-496.648 524.476,-478.899 485.636,-464.28\"/>\r\n",
       "<polygon fill=\"black\" stroke=\"black\" points=\"486.543,-460.882 475.951,-460.635 484.077,-467.433 486.543,-460.882\"/>\r\n",
       "</g>\r\n",
       "<!-- 15 -->\r\n",
       "<g id=\"node16\" class=\"node\"><title>15</title>\r\n",
       "<path fill=\"#e58139\" fill-opacity=\"0.639216\" stroke=\"black\" d=\"M734.5,-469C734.5,-469 628.5,-469 628.5,-469 622.5,-469 616.5,-463 616.5,-457 616.5,-457 616.5,-413 616.5,-413 616.5,-407 622.5,-401 628.5,-401 628.5,-401 734.5,-401 734.5,-401 740.5,-401 746.5,-407 746.5,-413 746.5,-413 746.5,-457 746.5,-457 746.5,-463 740.5,-469 734.5,-469\"/>\r\n",
       "<text text-anchor=\"middle\" x=\"681.5\" y=\"-453.8\" font-family=\"Helvetica,sans-Serif\" font-size=\"14.00\">Curtosis &lt;= 0.685</text>\r\n",
       "<text text-anchor=\"middle\" x=\"681.5\" y=\"-438.8\" font-family=\"Helvetica,sans-Serif\" font-size=\"14.00\">gini = 0.389</text>\r\n",
       "<text text-anchor=\"middle\" x=\"681.5\" y=\"-423.8\" font-family=\"Helvetica,sans-Serif\" font-size=\"14.00\">samples = 106</text>\r\n",
       "<text text-anchor=\"middle\" x=\"681.5\" y=\"-408.8\" font-family=\"Helvetica,sans-Serif\" font-size=\"14.00\">value = [78, 28]</text>\r\n",
       "</g>\r\n",
       "<!-- 1&#45;&gt;15 -->\r\n",
       "<g id=\"edge15\" class=\"edge\"><title>1&#45;&gt;15</title>\r\n",
       "<path fill=\"none\" stroke=\"black\" d=\"M681.5,-504.884C681.5,-496.778 681.5,-487.982 681.5,-479.472\"/>\r\n",
       "<polygon fill=\"black\" stroke=\"black\" points=\"685,-479.299 681.5,-469.299 678,-479.299 685,-479.299\"/>\r\n",
       "</g>\r\n",
       "<!-- 3 -->\r\n",
       "<g id=\"node4\" class=\"node\"><title>3</title>\r\n",
       "<path fill=\"#399de5\" fill-opacity=\"0.996078\" stroke=\"black\" d=\"M256,-365C256,-365 137,-365 137,-365 131,-365 125,-359 125,-353 125,-353 125,-309 125,-309 125,-303 131,-297 137,-297 137,-297 256,-297 256,-297 262,-297 268,-303 268,-309 268,-309 268,-353 268,-353 268,-359 262,-365 256,-365\"/>\r\n",
       "<text text-anchor=\"middle\" x=\"196.5\" y=\"-349.8\" font-family=\"Helvetica,sans-Serif\" font-size=\"14.00\">Skewness &lt;= 4.094</text>\r\n",
       "<text text-anchor=\"middle\" x=\"196.5\" y=\"-334.8\" font-family=\"Helvetica,sans-Serif\" font-size=\"14.00\">gini = 0.007</text>\r\n",
       "<text text-anchor=\"middle\" x=\"196.5\" y=\"-319.8\" font-family=\"Helvetica,sans-Serif\" font-size=\"14.00\">samples = 294</text>\r\n",
       "<text text-anchor=\"middle\" x=\"196.5\" y=\"-304.8\" font-family=\"Helvetica,sans-Serif\" font-size=\"14.00\">value = [1, 293]</text>\r\n",
       "</g>\r\n",
       "<!-- 2&#45;&gt;3 -->\r\n",
       "<g id=\"edge3\" class=\"edge\"><title>2&#45;&gt;3</title>\r\n",
       "<path fill=\"none\" stroke=\"black\" d=\"M345.421,-402.981C323.275,-392.426 298.284,-380.514 275.188,-369.506\"/>\r\n",
       "<polygon fill=\"black\" stroke=\"black\" points=\"276.635,-366.318 266.102,-365.175 273.623,-372.637 276.635,-366.318\"/>\r\n",
       "</g>\r\n",
       "<!-- 8 -->\r\n",
       "<g id=\"node9\" class=\"node\"><title>8</title>\r\n",
       "<path fill=\"#399de5\" fill-opacity=\"0.815686\" stroke=\"black\" d=\"M472,-365C472,-365 349,-365 349,-365 343,-365 337,-359 337,-353 337,-353 337,-309 337,-309 337,-303 343,-297 349,-297 349,-297 472,-297 472,-297 478,-297 484,-303 484,-309 484,-309 484,-353 484,-353 484,-359 478,-365 472,-365\"/>\r\n",
       "<text text-anchor=\"middle\" x=\"410.5\" y=\"-349.8\" font-family=\"Helvetica,sans-Serif\" font-size=\"14.00\">Skewness &lt;= &#45;4.675</text>\r\n",
       "<text text-anchor=\"middle\" x=\"410.5\" y=\"-334.8\" font-family=\"Helvetica,sans-Serif\" font-size=\"14.00\">gini = 0.262</text>\r\n",
       "<text text-anchor=\"middle\" x=\"410.5\" y=\"-319.8\" font-family=\"Helvetica,sans-Serif\" font-size=\"14.00\">samples = 129</text>\r\n",
       "<text text-anchor=\"middle\" x=\"410.5\" y=\"-304.8\" font-family=\"Helvetica,sans-Serif\" font-size=\"14.00\">value = [20, 109]</text>\r\n",
       "</g>\r\n",
       "<!-- 2&#45;&gt;8 -->\r\n",
       "<g id=\"edge8\" class=\"edge\"><title>2&#45;&gt;8</title>\r\n",
       "<path fill=\"none\" stroke=\"black\" d=\"M410.5,-400.884C410.5,-392.778 410.5,-383.982 410.5,-375.472\"/>\r\n",
       "<polygon fill=\"black\" stroke=\"black\" points=\"414,-375.299 410.5,-365.299 407,-375.299 414,-375.299\"/>\r\n",
       "</g>\r\n",
       "<!-- 4 -->\r\n",
       "<g id=\"node5\" class=\"node\"><title>4</title>\r\n",
       "<path fill=\"#399de5\" stroke=\"black\" d=\"M101,-253.5C101,-253.5 12,-253.5 12,-253.5 6,-253.5 0,-247.5 0,-241.5 0,-241.5 0,-212.5 0,-212.5 0,-206.5 6,-200.5 12,-200.5 12,-200.5 101,-200.5 101,-200.5 107,-200.5 113,-206.5 113,-212.5 113,-212.5 113,-241.5 113,-241.5 113,-247.5 107,-253.5 101,-253.5\"/>\r\n",
       "<text text-anchor=\"middle\" x=\"56.5\" y=\"-238.3\" font-family=\"Helvetica,sans-Serif\" font-size=\"14.00\">gini = 0.0</text>\r\n",
       "<text text-anchor=\"middle\" x=\"56.5\" y=\"-223.3\" font-family=\"Helvetica,sans-Serif\" font-size=\"14.00\">samples = 284</text>\r\n",
       "<text text-anchor=\"middle\" x=\"56.5\" y=\"-208.3\" font-family=\"Helvetica,sans-Serif\" font-size=\"14.00\">value = [0, 284]</text>\r\n",
       "</g>\r\n",
       "<!-- 3&#45;&gt;4 -->\r\n",
       "<g id=\"edge4\" class=\"edge\"><title>3&#45;&gt;4</title>\r\n",
       "<path fill=\"none\" stroke=\"black\" d=\"M151.046,-296.884C134.592,-284.896 116.067,-271.399 99.8032,-259.549\"/>\r\n",
       "<polygon fill=\"black\" stroke=\"black\" points=\"101.671,-256.58 91.5274,-253.52 97.5487,-262.237 101.671,-256.58\"/>\r\n",
       "</g>\r\n",
       "<!-- 5 -->\r\n",
       "<g id=\"node6\" class=\"node\"><title>5</title>\r\n",
       "<path fill=\"#399de5\" fill-opacity=\"0.890196\" stroke=\"black\" d=\"M250,-261C250,-261 143,-261 143,-261 137,-261 131,-255 131,-249 131,-249 131,-205 131,-205 131,-199 137,-193 143,-193 143,-193 250,-193 250,-193 256,-193 262,-199 262,-205 262,-205 262,-249 262,-249 262,-255 256,-261 250,-261\"/>\r\n",
       "<text text-anchor=\"middle\" x=\"196.5\" y=\"-245.8\" font-family=\"Helvetica,sans-Serif\" font-size=\"14.00\">Entropy &lt;= &#45;2.168</text>\r\n",
       "<text text-anchor=\"middle\" x=\"196.5\" y=\"-230.8\" font-family=\"Helvetica,sans-Serif\" font-size=\"14.00\">gini = 0.18</text>\r\n",
       "<text text-anchor=\"middle\" x=\"196.5\" y=\"-215.8\" font-family=\"Helvetica,sans-Serif\" font-size=\"14.00\">samples = 10</text>\r\n",
       "<text text-anchor=\"middle\" x=\"196.5\" y=\"-200.8\" font-family=\"Helvetica,sans-Serif\" font-size=\"14.00\">value = [1, 9]</text>\r\n",
       "</g>\r\n",
       "<!-- 3&#45;&gt;5 -->\r\n",
       "<g id=\"edge5\" class=\"edge\"><title>3&#45;&gt;5</title>\r\n",
       "<path fill=\"none\" stroke=\"black\" d=\"M196.5,-296.884C196.5,-288.778 196.5,-279.982 196.5,-271.472\"/>\r\n",
       "<polygon fill=\"black\" stroke=\"black\" points=\"200,-271.299 196.5,-261.299 193,-271.299 200,-271.299\"/>\r\n",
       "</g>\r\n",
       "<!-- 6 -->\r\n",
       "<g id=\"node7\" class=\"node\"><title>6</title>\r\n",
       "<path fill=\"#399de5\" stroke=\"black\" d=\"M127,-149.5C127,-149.5 54,-149.5 54,-149.5 48,-149.5 42,-143.5 42,-137.5 42,-137.5 42,-108.5 42,-108.5 42,-102.5 48,-96.5 54,-96.5 54,-96.5 127,-96.5 127,-96.5 133,-96.5 139,-102.5 139,-108.5 139,-108.5 139,-137.5 139,-137.5 139,-143.5 133,-149.5 127,-149.5\"/>\r\n",
       "<text text-anchor=\"middle\" x=\"90.5\" y=\"-134.3\" font-family=\"Helvetica,sans-Serif\" font-size=\"14.00\">gini = 0.0</text>\r\n",
       "<text text-anchor=\"middle\" x=\"90.5\" y=\"-119.3\" font-family=\"Helvetica,sans-Serif\" font-size=\"14.00\">samples = 9</text>\r\n",
       "<text text-anchor=\"middle\" x=\"90.5\" y=\"-104.3\" font-family=\"Helvetica,sans-Serif\" font-size=\"14.00\">value = [0, 9]</text>\r\n",
       "</g>\r\n",
       "<!-- 5&#45;&gt;6 -->\r\n",
       "<g id=\"edge6\" class=\"edge\"><title>5&#45;&gt;6</title>\r\n",
       "<path fill=\"none\" stroke=\"black\" d=\"M162.085,-192.884C149.97,-181.226 136.372,-168.141 124.307,-156.532\"/>\r\n",
       "<polygon fill=\"black\" stroke=\"black\" points=\"126.653,-153.932 117.021,-149.52 121.8,-158.976 126.653,-153.932\"/>\r\n",
       "</g>\r\n",
       "<!-- 7 -->\r\n",
       "<g id=\"node8\" class=\"node\"><title>7</title>\r\n",
       "<path fill=\"#e58139\" stroke=\"black\" d=\"M242,-149.5C242,-149.5 169,-149.5 169,-149.5 163,-149.5 157,-143.5 157,-137.5 157,-137.5 157,-108.5 157,-108.5 157,-102.5 163,-96.5 169,-96.5 169,-96.5 242,-96.5 242,-96.5 248,-96.5 254,-102.5 254,-108.5 254,-108.5 254,-137.5 254,-137.5 254,-143.5 248,-149.5 242,-149.5\"/>\r\n",
       "<text text-anchor=\"middle\" x=\"205.5\" y=\"-134.3\" font-family=\"Helvetica,sans-Serif\" font-size=\"14.00\">gini = 0.0</text>\r\n",
       "<text text-anchor=\"middle\" x=\"205.5\" y=\"-119.3\" font-family=\"Helvetica,sans-Serif\" font-size=\"14.00\">samples = 1</text>\r\n",
       "<text text-anchor=\"middle\" x=\"205.5\" y=\"-104.3\" font-family=\"Helvetica,sans-Serif\" font-size=\"14.00\">value = [1, 0]</text>\r\n",
       "</g>\r\n",
       "<!-- 5&#45;&gt;7 -->\r\n",
       "<g id=\"edge7\" class=\"edge\"><title>5&#45;&gt;7</title>\r\n",
       "<path fill=\"none\" stroke=\"black\" d=\"M199.422,-192.884C200.363,-182.216 201.41,-170.352 202.366,-159.519\"/>\r\n",
       "<polygon fill=\"black\" stroke=\"black\" points=\"205.856,-159.789 203.248,-149.52 198.883,-159.174 205.856,-159.789\"/>\r\n",
       "</g>\r\n",
       "<!-- 9 -->\r\n",
       "<g id=\"node10\" class=\"node\"><title>9</title>\r\n",
       "<path fill=\"#399de5\" fill-opacity=\"0.992157\" stroke=\"black\" d=\"M415,-261C415,-261 292,-261 292,-261 286,-261 280,-255 280,-249 280,-249 280,-205 280,-205 280,-199 286,-193 292,-193 292,-193 415,-193 415,-193 421,-193 427,-199 427,-205 427,-205 427,-249 427,-249 427,-255 421,-261 415,-261\"/>\r\n",
       "<text text-anchor=\"middle\" x=\"353.5\" y=\"-245.8\" font-family=\"Helvetica,sans-Serif\" font-size=\"14.00\">Skewness &lt;= &#45;6.501</text>\r\n",
       "<text text-anchor=\"middle\" x=\"353.5\" y=\"-230.8\" font-family=\"Helvetica,sans-Serif\" font-size=\"14.00\">gini = 0.018</text>\r\n",
       "<text text-anchor=\"middle\" x=\"353.5\" y=\"-215.8\" font-family=\"Helvetica,sans-Serif\" font-size=\"14.00\">samples = 110</text>\r\n",
       "<text text-anchor=\"middle\" x=\"353.5\" y=\"-200.8\" font-family=\"Helvetica,sans-Serif\" font-size=\"14.00\">value = [1, 109]</text>\r\n",
       "</g>\r\n",
       "<!-- 8&#45;&gt;9 -->\r\n",
       "<g id=\"edge9\" class=\"edge\"><title>8&#45;&gt;9</title>\r\n",
       "<path fill=\"none\" stroke=\"black\" d=\"M391.994,-296.884C387.215,-288.332 382.007,-279.013 377.011,-270.072\"/>\r\n",
       "<polygon fill=\"black\" stroke=\"black\" points=\"380.042,-268.321 372.108,-261.299 373.931,-271.736 380.042,-268.321\"/>\r\n",
       "</g>\r\n",
       "<!-- 14 -->\r\n",
       "<g id=\"node15\" class=\"node\"><title>14</title>\r\n",
       "<path fill=\"#e58139\" stroke=\"black\" d=\"M538,-253.5C538,-253.5 457,-253.5 457,-253.5 451,-253.5 445,-247.5 445,-241.5 445,-241.5 445,-212.5 445,-212.5 445,-206.5 451,-200.5 457,-200.5 457,-200.5 538,-200.5 538,-200.5 544,-200.5 550,-206.5 550,-212.5 550,-212.5 550,-241.5 550,-241.5 550,-247.5 544,-253.5 538,-253.5\"/>\r\n",
       "<text text-anchor=\"middle\" x=\"497.5\" y=\"-238.3\" font-family=\"Helvetica,sans-Serif\" font-size=\"14.00\">gini = 0.0</text>\r\n",
       "<text text-anchor=\"middle\" x=\"497.5\" y=\"-223.3\" font-family=\"Helvetica,sans-Serif\" font-size=\"14.00\">samples = 19</text>\r\n",
       "<text text-anchor=\"middle\" x=\"497.5\" y=\"-208.3\" font-family=\"Helvetica,sans-Serif\" font-size=\"14.00\">value = [19, 0]</text>\r\n",
       "</g>\r\n",
       "<!-- 8&#45;&gt;14 -->\r\n",
       "<g id=\"edge14\" class=\"edge\"><title>8&#45;&gt;14</title>\r\n",
       "<path fill=\"none\" stroke=\"black\" d=\"M438.746,-296.884C448.502,-285.446 459.43,-272.634 469.191,-261.19\"/>\r\n",
       "<polygon fill=\"black\" stroke=\"black\" points=\"471.906,-263.4 475.733,-253.52 466.581,-258.857 471.906,-263.4\"/>\r\n",
       "</g>\r\n",
       "<!-- 10 -->\r\n",
       "<g id=\"node11\" class=\"node\"><title>10</title>\r\n",
       "<path fill=\"#399de5\" stroke=\"black\" d=\"M375,-149.5C375,-149.5 294,-149.5 294,-149.5 288,-149.5 282,-143.5 282,-137.5 282,-137.5 282,-108.5 282,-108.5 282,-102.5 288,-96.5 294,-96.5 294,-96.5 375,-96.5 375,-96.5 381,-96.5 387,-102.5 387,-108.5 387,-108.5 387,-137.5 387,-137.5 387,-143.5 381,-149.5 375,-149.5\"/>\r\n",
       "<text text-anchor=\"middle\" x=\"334.5\" y=\"-134.3\" font-family=\"Helvetica,sans-Serif\" font-size=\"14.00\">gini = 0.0</text>\r\n",
       "<text text-anchor=\"middle\" x=\"334.5\" y=\"-119.3\" font-family=\"Helvetica,sans-Serif\" font-size=\"14.00\">samples = 94</text>\r\n",
       "<text text-anchor=\"middle\" x=\"334.5\" y=\"-104.3\" font-family=\"Helvetica,sans-Serif\" font-size=\"14.00\">value = [0, 94]</text>\r\n",
       "</g>\r\n",
       "<!-- 9&#45;&gt;10 -->\r\n",
       "<g id=\"edge10\" class=\"edge\"><title>9&#45;&gt;10</title>\r\n",
       "<path fill=\"none\" stroke=\"black\" d=\"M347.331,-192.884C345.344,-182.216 343.134,-170.352 341.116,-159.519\"/>\r\n",
       "<polygon fill=\"black\" stroke=\"black\" points=\"344.526,-158.71 339.254,-149.52 337.644,-159.992 344.526,-158.71\"/>\r\n",
       "</g>\r\n",
       "<!-- 11 -->\r\n",
       "<g id=\"node12\" class=\"node\"><title>11</title>\r\n",
       "<path fill=\"#399de5\" fill-opacity=\"0.933333\" stroke=\"black\" d=\"M530,-157C530,-157 417,-157 417,-157 411,-157 405,-151 405,-145 405,-145 405,-101 405,-101 405,-95 411,-89 417,-89 417,-89 530,-89 530,-89 536,-89 542,-95 542,-101 542,-101 542,-145 542,-145 542,-151 536,-157 530,-157\"/>\r\n",
       "<text text-anchor=\"middle\" x=\"473.5\" y=\"-141.8\" font-family=\"Helvetica,sans-Serif\" font-size=\"14.00\">Variance &lt;= &#45;0.775</text>\r\n",
       "<text text-anchor=\"middle\" x=\"473.5\" y=\"-126.8\" font-family=\"Helvetica,sans-Serif\" font-size=\"14.00\">gini = 0.117</text>\r\n",
       "<text text-anchor=\"middle\" x=\"473.5\" y=\"-111.8\" font-family=\"Helvetica,sans-Serif\" font-size=\"14.00\">samples = 16</text>\r\n",
       "<text text-anchor=\"middle\" x=\"473.5\" y=\"-96.8\" font-family=\"Helvetica,sans-Serif\" font-size=\"14.00\">value = [1, 15]</text>\r\n",
       "</g>\r\n",
       "<!-- 9&#45;&gt;11 -->\r\n",
       "<g id=\"edge11\" class=\"edge\"><title>9&#45;&gt;11</title>\r\n",
       "<path fill=\"none\" stroke=\"black\" d=\"M392.461,-192.884C403.359,-183.62 415.318,-173.455 426.623,-163.845\"/>\r\n",
       "<polygon fill=\"black\" stroke=\"black\" points=\"428.972,-166.443 434.324,-157.299 424.438,-161.109 428.972,-166.443\"/>\r\n",
       "</g>\r\n",
       "<!-- 12 -->\r\n",
       "<g id=\"node13\" class=\"node\"><title>12</title>\r\n",
       "<path fill=\"#399de5\" stroke=\"black\" d=\"M455,-53C455,-53 374,-53 374,-53 368,-53 362,-47 362,-41 362,-41 362,-12 362,-12 362,-6 368,-0 374,-0 374,-0 455,-0 455,-0 461,-0 467,-6 467,-12 467,-12 467,-41 467,-41 467,-47 461,-53 455,-53\"/>\r\n",
       "<text text-anchor=\"middle\" x=\"414.5\" y=\"-37.8\" font-family=\"Helvetica,sans-Serif\" font-size=\"14.00\">gini = 0.0</text>\r\n",
       "<text text-anchor=\"middle\" x=\"414.5\" y=\"-22.8\" font-family=\"Helvetica,sans-Serif\" font-size=\"14.00\">samples = 15</text>\r\n",
       "<text text-anchor=\"middle\" x=\"414.5\" y=\"-7.8\" font-family=\"Helvetica,sans-Serif\" font-size=\"14.00\">value = [0, 15]</text>\r\n",
       "</g>\r\n",
       "<!-- 11&#45;&gt;12 -->\r\n",
       "<g id=\"edge12\" class=\"edge\"><title>11&#45;&gt;12</title>\r\n",
       "<path fill=\"none\" stroke=\"black\" d=\"M452.865,-88.9485C447.382,-80.1664 441.448,-70.6629 435.924,-61.815\"/>\r\n",
       "<polygon fill=\"black\" stroke=\"black\" points=\"438.833,-59.8656 430.568,-53.2367 432.896,-63.5728 438.833,-59.8656\"/>\r\n",
       "</g>\r\n",
       "<!-- 13 -->\r\n",
       "<g id=\"node14\" class=\"node\"><title>13</title>\r\n",
       "<path fill=\"#e58139\" stroke=\"black\" d=\"M570,-53C570,-53 497,-53 497,-53 491,-53 485,-47 485,-41 485,-41 485,-12 485,-12 485,-6 491,-0 497,-0 497,-0 570,-0 570,-0 576,-0 582,-6 582,-12 582,-12 582,-41 582,-41 582,-47 576,-53 570,-53\"/>\r\n",
       "<text text-anchor=\"middle\" x=\"533.5\" y=\"-37.8\" font-family=\"Helvetica,sans-Serif\" font-size=\"14.00\">gini = 0.0</text>\r\n",
       "<text text-anchor=\"middle\" x=\"533.5\" y=\"-22.8\" font-family=\"Helvetica,sans-Serif\" font-size=\"14.00\">samples = 1</text>\r\n",
       "<text text-anchor=\"middle\" x=\"533.5\" y=\"-7.8\" font-family=\"Helvetica,sans-Serif\" font-size=\"14.00\">value = [1, 0]</text>\r\n",
       "</g>\r\n",
       "<!-- 11&#45;&gt;13 -->\r\n",
       "<g id=\"edge13\" class=\"edge\"><title>11&#45;&gt;13</title>\r\n",
       "<path fill=\"none\" stroke=\"black\" d=\"M494.485,-88.9485C500.061,-80.1664 506.095,-70.6629 511.713,-61.815\"/>\r\n",
       "<polygon fill=\"black\" stroke=\"black\" points=\"514.754,-63.5549 517.159,-53.2367 508.844,-59.8028 514.754,-63.5549\"/>\r\n",
       "</g>\r\n",
       "<!-- 16 -->\r\n",
       "<g id=\"node17\" class=\"node\"><title>16</title>\r\n",
       "<path fill=\"#e58139\" fill-opacity=\"0.176471\" stroke=\"black\" d=\"M677,-365C677,-365 564,-365 564,-365 558,-365 552,-359 552,-353 552,-353 552,-309 552,-309 552,-303 558,-297 564,-297 564,-297 677,-297 677,-297 683,-297 689,-303 689,-309 689,-309 689,-353 689,-353 689,-359 683,-365 677,-365\"/>\r\n",
       "<text text-anchor=\"middle\" x=\"620.5\" y=\"-349.8\" font-family=\"Helvetica,sans-Serif\" font-size=\"14.00\">Variance &lt;= &#45;3.423</text>\r\n",
       "<text text-anchor=\"middle\" x=\"620.5\" y=\"-334.8\" font-family=\"Helvetica,sans-Serif\" font-size=\"14.00\">gini = 0.495</text>\r\n",
       "<text text-anchor=\"middle\" x=\"620.5\" y=\"-319.8\" font-family=\"Helvetica,sans-Serif\" font-size=\"14.00\">samples = 62</text>\r\n",
       "<text text-anchor=\"middle\" x=\"620.5\" y=\"-304.8\" font-family=\"Helvetica,sans-Serif\" font-size=\"14.00\">value = [34, 28]</text>\r\n",
       "</g>\r\n",
       "<!-- 15&#45;&gt;16 -->\r\n",
       "<g id=\"edge16\" class=\"edge\"><title>15&#45;&gt;16</title>\r\n",
       "<path fill=\"none\" stroke=\"black\" d=\"M661.695,-400.884C656.581,-392.332 651.008,-383.013 645.661,-374.072\"/>\r\n",
       "<polygon fill=\"black\" stroke=\"black\" points=\"648.551,-372.085 640.414,-365.299 642.543,-375.678 648.551,-372.085\"/>\r\n",
       "</g>\r\n",
       "<!-- 19 -->\r\n",
       "<g id=\"node20\" class=\"node\"><title>19</title>\r\n",
       "<path fill=\"#e58139\" stroke=\"black\" d=\"M800,-357.5C800,-357.5 719,-357.5 719,-357.5 713,-357.5 707,-351.5 707,-345.5 707,-345.5 707,-316.5 707,-316.5 707,-310.5 713,-304.5 719,-304.5 719,-304.5 800,-304.5 800,-304.5 806,-304.5 812,-310.5 812,-316.5 812,-316.5 812,-345.5 812,-345.5 812,-351.5 806,-357.5 800,-357.5\"/>\r\n",
       "<text text-anchor=\"middle\" x=\"759.5\" y=\"-342.3\" font-family=\"Helvetica,sans-Serif\" font-size=\"14.00\">gini = 0.0</text>\r\n",
       "<text text-anchor=\"middle\" x=\"759.5\" y=\"-327.3\" font-family=\"Helvetica,sans-Serif\" font-size=\"14.00\">samples = 44</text>\r\n",
       "<text text-anchor=\"middle\" x=\"759.5\" y=\"-312.3\" font-family=\"Helvetica,sans-Serif\" font-size=\"14.00\">value = [44, 0]</text>\r\n",
       "</g>\r\n",
       "<!-- 15&#45;&gt;19 -->\r\n",
       "<g id=\"edge19\" class=\"edge\"><title>15&#45;&gt;19</title>\r\n",
       "<path fill=\"none\" stroke=\"black\" d=\"M706.824,-400.884C715.487,-389.556 725.18,-376.88 733.867,-365.521\"/>\r\n",
       "<polygon fill=\"black\" stroke=\"black\" points=\"736.69,-367.59 739.985,-357.52 731.13,-363.337 736.69,-367.59\"/>\r\n",
       "</g>\r\n",
       "<!-- 17 -->\r\n",
       "<g id=\"node18\" class=\"node\"><title>17</title>\r\n",
       "<path fill=\"#399de5\" stroke=\"black\" d=\"M661,-253.5C661,-253.5 580,-253.5 580,-253.5 574,-253.5 568,-247.5 568,-241.5 568,-241.5 568,-212.5 568,-212.5 568,-206.5 574,-200.5 580,-200.5 580,-200.5 661,-200.5 661,-200.5 667,-200.5 673,-206.5 673,-212.5 673,-212.5 673,-241.5 673,-241.5 673,-247.5 667,-253.5 661,-253.5\"/>\r\n",
       "<text text-anchor=\"middle\" x=\"620.5\" y=\"-238.3\" font-family=\"Helvetica,sans-Serif\" font-size=\"14.00\">gini = 0.0</text>\r\n",
       "<text text-anchor=\"middle\" x=\"620.5\" y=\"-223.3\" font-family=\"Helvetica,sans-Serif\" font-size=\"14.00\">samples = 28</text>\r\n",
       "<text text-anchor=\"middle\" x=\"620.5\" y=\"-208.3\" font-family=\"Helvetica,sans-Serif\" font-size=\"14.00\">value = [0, 28]</text>\r\n",
       "</g>\r\n",
       "<!-- 16&#45;&gt;17 -->\r\n",
       "<g id=\"edge17\" class=\"edge\"><title>16&#45;&gt;17</title>\r\n",
       "<path fill=\"none\" stroke=\"black\" d=\"M620.5,-296.884C620.5,-286.326 620.5,-274.597 620.5,-263.854\"/>\r\n",
       "<polygon fill=\"black\" stroke=\"black\" points=\"624,-263.52 620.5,-253.52 617,-263.52 624,-263.52\"/>\r\n",
       "</g>\r\n",
       "<!-- 18 -->\r\n",
       "<g id=\"node19\" class=\"node\"><title>18</title>\r\n",
       "<path fill=\"#e58139\" stroke=\"black\" d=\"M784,-253.5C784,-253.5 703,-253.5 703,-253.5 697,-253.5 691,-247.5 691,-241.5 691,-241.5 691,-212.5 691,-212.5 691,-206.5 697,-200.5 703,-200.5 703,-200.5 784,-200.5 784,-200.5 790,-200.5 796,-206.5 796,-212.5 796,-212.5 796,-241.5 796,-241.5 796,-247.5 790,-253.5 784,-253.5\"/>\r\n",
       "<text text-anchor=\"middle\" x=\"743.5\" y=\"-238.3\" font-family=\"Helvetica,sans-Serif\" font-size=\"14.00\">gini = 0.0</text>\r\n",
       "<text text-anchor=\"middle\" x=\"743.5\" y=\"-223.3\" font-family=\"Helvetica,sans-Serif\" font-size=\"14.00\">samples = 34</text>\r\n",
       "<text text-anchor=\"middle\" x=\"743.5\" y=\"-208.3\" font-family=\"Helvetica,sans-Serif\" font-size=\"14.00\">value = [34, 0]</text>\r\n",
       "</g>\r\n",
       "<!-- 16&#45;&gt;18 -->\r\n",
       "<g id=\"edge18\" class=\"edge\"><title>16&#45;&gt;18</title>\r\n",
       "<path fill=\"none\" stroke=\"black\" d=\"M660.435,-296.884C674.625,-285.116 690.569,-271.894 704.667,-260.203\"/>\r\n",
       "<polygon fill=\"black\" stroke=\"black\" points=\"707.263,-262.597 712.726,-253.52 702.794,-257.209 707.263,-262.597\"/>\r\n",
       "</g>\r\n",
       "<!-- 21 -->\r\n",
       "<g id=\"node22\" class=\"node\"><title>21</title>\r\n",
       "<path fill=\"#399de5\" fill-opacity=\"0.694118\" stroke=\"black\" d=\"M954,-469C954,-469 845,-469 845,-469 839,-469 833,-463 833,-457 833,-457 833,-413 833,-413 833,-407 839,-401 845,-401 845,-401 954,-401 954,-401 960,-401 966,-407 966,-413 966,-413 966,-457 966,-457 966,-463 960,-469 954,-469\"/>\r\n",
       "<text text-anchor=\"middle\" x=\"899.5\" y=\"-453.8\" font-family=\"Helvetica,sans-Serif\" font-size=\"14.00\">Variance &lt;= 3.304</text>\r\n",
       "<text text-anchor=\"middle\" x=\"899.5\" y=\"-438.8\" font-family=\"Helvetica,sans-Serif\" font-size=\"14.00\">gini = 0.358</text>\r\n",
       "<text text-anchor=\"middle\" x=\"899.5\" y=\"-423.8\" font-family=\"Helvetica,sans-Serif\" font-size=\"14.00\">samples = 30</text>\r\n",
       "<text text-anchor=\"middle\" x=\"899.5\" y=\"-408.8\" font-family=\"Helvetica,sans-Serif\" font-size=\"14.00\">value = [7, 23]</text>\r\n",
       "</g>\r\n",
       "<!-- 20&#45;&gt;21 -->\r\n",
       "<g id=\"edge21\" class=\"edge\"><title>20&#45;&gt;21</title>\r\n",
       "<path fill=\"none\" stroke=\"black\" d=\"M899.5,-504.884C899.5,-496.778 899.5,-487.982 899.5,-479.472\"/>\r\n",
       "<polygon fill=\"black\" stroke=\"black\" points=\"903,-479.299 899.5,-469.299 896,-479.299 903,-479.299\"/>\r\n",
       "</g>\r\n",
       "<!-- 24 -->\r\n",
       "<g id=\"node25\" class=\"node\"><title>24</title>\r\n",
       "<path fill=\"#e58139\" fill-opacity=\"0.925490\" stroke=\"black\" d=\"M1190,-469C1190,-469 1081,-469 1081,-469 1075,-469 1069,-463 1069,-457 1069,-457 1069,-413 1069,-413 1069,-407 1075,-401 1081,-401 1081,-401 1190,-401 1190,-401 1196,-401 1202,-407 1202,-413 1202,-413 1202,-457 1202,-457 1202,-463 1196,-469 1190,-469\"/>\r\n",
       "<text text-anchor=\"middle\" x=\"1135.5\" y=\"-453.8\" font-family=\"Helvetica,sans-Serif\" font-size=\"14.00\">Variance &lt;= 1.509</text>\r\n",
       "<text text-anchor=\"middle\" x=\"1135.5\" y=\"-438.8\" font-family=\"Helvetica,sans-Serif\" font-size=\"14.00\">gini = 0.131</text>\r\n",
       "<text text-anchor=\"middle\" x=\"1135.5\" y=\"-423.8\" font-family=\"Helvetica,sans-Serif\" font-size=\"14.00\">samples = 538</text>\r\n",
       "<text text-anchor=\"middle\" x=\"1135.5\" y=\"-408.8\" font-family=\"Helvetica,sans-Serif\" font-size=\"14.00\">value = [500, 38]</text>\r\n",
       "</g>\r\n",
       "<!-- 20&#45;&gt;24 -->\r\n",
       "<g id=\"edge24\" class=\"edge\"><title>20&#45;&gt;24</title>\r\n",
       "<path fill=\"none\" stroke=\"black\" d=\"M966.812,-508.907C995.702,-496.421 1029.6,-481.772 1059.4,-468.893\"/>\r\n",
       "<polygon fill=\"black\" stroke=\"black\" points=\"1061.12,-471.959 1068.91,-464.778 1058.35,-465.533 1061.12,-471.959\"/>\r\n",
       "</g>\r\n",
       "<!-- 22 -->\r\n",
       "<g id=\"node23\" class=\"node\"><title>22</title>\r\n",
       "<path fill=\"#399de5\" stroke=\"black\" d=\"M923,-357.5C923,-357.5 842,-357.5 842,-357.5 836,-357.5 830,-351.5 830,-345.5 830,-345.5 830,-316.5 830,-316.5 830,-310.5 836,-304.5 842,-304.5 842,-304.5 923,-304.5 923,-304.5 929,-304.5 935,-310.5 935,-316.5 935,-316.5 935,-345.5 935,-345.5 935,-351.5 929,-357.5 923,-357.5\"/>\r\n",
       "<text text-anchor=\"middle\" x=\"882.5\" y=\"-342.3\" font-family=\"Helvetica,sans-Serif\" font-size=\"14.00\">gini = 0.0</text>\r\n",
       "<text text-anchor=\"middle\" x=\"882.5\" y=\"-327.3\" font-family=\"Helvetica,sans-Serif\" font-size=\"14.00\">samples = 23</text>\r\n",
       "<text text-anchor=\"middle\" x=\"882.5\" y=\"-312.3\" font-family=\"Helvetica,sans-Serif\" font-size=\"14.00\">value = [0, 23]</text>\r\n",
       "</g>\r\n",
       "<!-- 21&#45;&gt;22 -->\r\n",
       "<g id=\"edge22\" class=\"edge\"><title>21&#45;&gt;22</title>\r\n",
       "<path fill=\"none\" stroke=\"black\" d=\"M893.981,-400.884C892.203,-390.216 890.225,-378.352 888.42,-367.519\"/>\r\n",
       "<polygon fill=\"black\" stroke=\"black\" points=\"891.85,-366.808 886.753,-357.52 884.945,-367.959 891.85,-366.808\"/>\r\n",
       "</g>\r\n",
       "<!-- 23 -->\r\n",
       "<g id=\"node24\" class=\"node\"><title>23</title>\r\n",
       "<path fill=\"#e58139\" stroke=\"black\" d=\"M1038,-357.5C1038,-357.5 965,-357.5 965,-357.5 959,-357.5 953,-351.5 953,-345.5 953,-345.5 953,-316.5 953,-316.5 953,-310.5 959,-304.5 965,-304.5 965,-304.5 1038,-304.5 1038,-304.5 1044,-304.5 1050,-310.5 1050,-316.5 1050,-316.5 1050,-345.5 1050,-345.5 1050,-351.5 1044,-357.5 1038,-357.5\"/>\r\n",
       "<text text-anchor=\"middle\" x=\"1001.5\" y=\"-342.3\" font-family=\"Helvetica,sans-Serif\" font-size=\"14.00\">gini = 0.0</text>\r\n",
       "<text text-anchor=\"middle\" x=\"1001.5\" y=\"-327.3\" font-family=\"Helvetica,sans-Serif\" font-size=\"14.00\">samples = 7</text>\r\n",
       "<text text-anchor=\"middle\" x=\"1001.5\" y=\"-312.3\" font-family=\"Helvetica,sans-Serif\" font-size=\"14.00\">value = [7, 0]</text>\r\n",
       "</g>\r\n",
       "<!-- 21&#45;&gt;23 -->\r\n",
       "<g id=\"edge23\" class=\"edge\"><title>21&#45;&gt;23</title>\r\n",
       "<path fill=\"none\" stroke=\"black\" d=\"M932.616,-400.884C944.164,-389.336 957.113,-376.387 968.64,-364.86\"/>\r\n",
       "<polygon fill=\"black\" stroke=\"black\" points=\"971.384,-367.066 975.98,-357.52 966.434,-362.116 971.384,-367.066\"/>\r\n",
       "</g>\r\n",
       "<!-- 25 -->\r\n",
       "<g id=\"node26\" class=\"node\"><title>25</title>\r\n",
       "<path fill=\"#e58139\" fill-opacity=\"0.666667\" stroke=\"black\" d=\"M1190.5,-365C1190.5,-365 1080.5,-365 1080.5,-365 1074.5,-365 1068.5,-359 1068.5,-353 1068.5,-353 1068.5,-309 1068.5,-309 1068.5,-303 1074.5,-297 1080.5,-297 1080.5,-297 1190.5,-297 1190.5,-297 1196.5,-297 1202.5,-303 1202.5,-309 1202.5,-309 1202.5,-353 1202.5,-353 1202.5,-359 1196.5,-365 1190.5,-365\"/>\r\n",
       "<text text-anchor=\"middle\" x=\"1135.5\" y=\"-349.8\" font-family=\"Helvetica,sans-Serif\" font-size=\"14.00\">Skewness &lt;= 3.83</text>\r\n",
       "<text text-anchor=\"middle\" x=\"1135.5\" y=\"-334.8\" font-family=\"Helvetica,sans-Serif\" font-size=\"14.00\">gini = 0.375</text>\r\n",
       "<text text-anchor=\"middle\" x=\"1135.5\" y=\"-319.8\" font-family=\"Helvetica,sans-Serif\" font-size=\"14.00\">samples = 140</text>\r\n",
       "<text text-anchor=\"middle\" x=\"1135.5\" y=\"-304.8\" font-family=\"Helvetica,sans-Serif\" font-size=\"14.00\">value = [105, 35]</text>\r\n",
       "</g>\r\n",
       "<!-- 24&#45;&gt;25 -->\r\n",
       "<g id=\"edge25\" class=\"edge\"><title>24&#45;&gt;25</title>\r\n",
       "<path fill=\"none\" stroke=\"black\" d=\"M1135.5,-400.884C1135.5,-392.778 1135.5,-383.982 1135.5,-375.472\"/>\r\n",
       "<polygon fill=\"black\" stroke=\"black\" points=\"1139,-375.299 1135.5,-365.299 1132,-375.299 1139,-375.299\"/>\r\n",
       "</g>\r\n",
       "<!-- 32 -->\r\n",
       "<g id=\"node33\" class=\"node\"><title>32</title>\r\n",
       "<path fill=\"#e58139\" fill-opacity=\"0.992157\" stroke=\"black\" d=\"M1342,-365C1342,-365 1233,-365 1233,-365 1227,-365 1221,-359 1221,-353 1221,-353 1221,-309 1221,-309 1221,-303 1227,-297 1233,-297 1233,-297 1342,-297 1342,-297 1348,-297 1354,-303 1354,-309 1354,-309 1354,-353 1354,-353 1354,-359 1348,-365 1342,-365\"/>\r\n",
       "<text text-anchor=\"middle\" x=\"1287.5\" y=\"-349.8\" font-family=\"Helvetica,sans-Serif\" font-size=\"14.00\">Variance &lt;= 2.039</text>\r\n",
       "<text text-anchor=\"middle\" x=\"1287.5\" y=\"-334.8\" font-family=\"Helvetica,sans-Serif\" font-size=\"14.00\">gini = 0.015</text>\r\n",
       "<text text-anchor=\"middle\" x=\"1287.5\" y=\"-319.8\" font-family=\"Helvetica,sans-Serif\" font-size=\"14.00\">samples = 398</text>\r\n",
       "<text text-anchor=\"middle\" x=\"1287.5\" y=\"-304.8\" font-family=\"Helvetica,sans-Serif\" font-size=\"14.00\">value = [395, 3]</text>\r\n",
       "</g>\r\n",
       "<!-- 24&#45;&gt;32 -->\r\n",
       "<g id=\"edge32\" class=\"edge\"><title>24&#45;&gt;32</title>\r\n",
       "<path fill=\"none\" stroke=\"black\" d=\"M1184.85,-400.884C1199.13,-391.304 1214.84,-380.761 1229.58,-370.864\"/>\r\n",
       "<polygon fill=\"black\" stroke=\"black\" points=\"1231.78,-373.603 1238.14,-365.125 1227.88,-367.791 1231.78,-373.603\"/>\r\n",
       "</g>\r\n",
       "<!-- 26 -->\r\n",
       "<g id=\"node27\" class=\"node\"><title>26</title>\r\n",
       "<path fill=\"#e58139\" fill-opacity=\"0.254902\" stroke=\"black\" d=\"M1055.5,-261C1055.5,-261 949.5,-261 949.5,-261 943.5,-261 937.5,-255 937.5,-249 937.5,-249 937.5,-205 937.5,-205 937.5,-199 943.5,-193 949.5,-193 949.5,-193 1055.5,-193 1055.5,-193 1061.5,-193 1067.5,-199 1067.5,-205 1067.5,-205 1067.5,-249 1067.5,-249 1067.5,-255 1061.5,-261 1055.5,-261\"/>\r\n",
       "<text text-anchor=\"middle\" x=\"1002.5\" y=\"-245.8\" font-family=\"Helvetica,sans-Serif\" font-size=\"14.00\">Curtosis &lt;= 0.024</text>\r\n",
       "<text text-anchor=\"middle\" x=\"1002.5\" y=\"-230.8\" font-family=\"Helvetica,sans-Serif\" font-size=\"14.00\">gini = 0.489</text>\r\n",
       "<text text-anchor=\"middle\" x=\"1002.5\" y=\"-215.8\" font-family=\"Helvetica,sans-Serif\" font-size=\"14.00\">samples = 82</text>\r\n",
       "<text text-anchor=\"middle\" x=\"1002.5\" y=\"-200.8\" font-family=\"Helvetica,sans-Serif\" font-size=\"14.00\">value = [47, 35]</text>\r\n",
       "</g>\r\n",
       "<!-- 25&#45;&gt;26 -->\r\n",
       "<g id=\"edge26\" class=\"edge\"><title>25&#45;&gt;26</title>\r\n",
       "<path fill=\"none\" stroke=\"black\" d=\"M1092.32,-296.884C1080.12,-287.531 1066.73,-277.259 1054.09,-267.568\"/>\r\n",
       "<polygon fill=\"black\" stroke=\"black\" points=\"1055.98,-264.608 1045.92,-261.299 1051.72,-270.162 1055.98,-264.608\"/>\r\n",
       "</g>\r\n",
       "<!-- 31 -->\r\n",
       "<g id=\"node32\" class=\"node\"><title>31</title>\r\n",
       "<path fill=\"#e58139\" stroke=\"black\" d=\"M1179,-253.5C1179,-253.5 1098,-253.5 1098,-253.5 1092,-253.5 1086,-247.5 1086,-241.5 1086,-241.5 1086,-212.5 1086,-212.5 1086,-206.5 1092,-200.5 1098,-200.5 1098,-200.5 1179,-200.5 1179,-200.5 1185,-200.5 1191,-206.5 1191,-212.5 1191,-212.5 1191,-241.5 1191,-241.5 1191,-247.5 1185,-253.5 1179,-253.5\"/>\r\n",
       "<text text-anchor=\"middle\" x=\"1138.5\" y=\"-238.3\" font-family=\"Helvetica,sans-Serif\" font-size=\"14.00\">gini = 0.0</text>\r\n",
       "<text text-anchor=\"middle\" x=\"1138.5\" y=\"-223.3\" font-family=\"Helvetica,sans-Serif\" font-size=\"14.00\">samples = 58</text>\r\n",
       "<text text-anchor=\"middle\" x=\"1138.5\" y=\"-208.3\" font-family=\"Helvetica,sans-Serif\" font-size=\"14.00\">value = [58, 0]</text>\r\n",
       "</g>\r\n",
       "<!-- 25&#45;&gt;31 -->\r\n",
       "<g id=\"edge31\" class=\"edge\"><title>25&#45;&gt;31</title>\r\n",
       "<path fill=\"none\" stroke=\"black\" d=\"M1136.47,-296.884C1136.79,-286.216 1137.14,-274.352 1137.46,-263.519\"/>\r\n",
       "<polygon fill=\"black\" stroke=\"black\" points=\"1140.95,-263.619 1137.75,-253.52 1133.96,-263.413 1140.95,-263.619\"/>\r\n",
       "</g>\r\n",
       "<!-- 27 -->\r\n",
       "<g id=\"node28\" class=\"node\"><title>27</title>\r\n",
       "<path fill=\"#399de5\" stroke=\"black\" d=\"M954,-149.5C954,-149.5 873,-149.5 873,-149.5 867,-149.5 861,-143.5 861,-137.5 861,-137.5 861,-108.5 861,-108.5 861,-102.5 867,-96.5 873,-96.5 873,-96.5 954,-96.5 954,-96.5 960,-96.5 966,-102.5 966,-108.5 966,-108.5 966,-137.5 966,-137.5 966,-143.5 960,-149.5 954,-149.5\"/>\r\n",
       "<text text-anchor=\"middle\" x=\"913.5\" y=\"-134.3\" font-family=\"Helvetica,sans-Serif\" font-size=\"14.00\">gini = 0.0</text>\r\n",
       "<text text-anchor=\"middle\" x=\"913.5\" y=\"-119.3\" font-family=\"Helvetica,sans-Serif\" font-size=\"14.00\">samples = 32</text>\r\n",
       "<text text-anchor=\"middle\" x=\"913.5\" y=\"-104.3\" font-family=\"Helvetica,sans-Serif\" font-size=\"14.00\">value = [0, 32]</text>\r\n",
       "</g>\r\n",
       "<!-- 26&#45;&gt;27 -->\r\n",
       "<g id=\"edge27\" class=\"edge\"><title>26&#45;&gt;27</title>\r\n",
       "<path fill=\"none\" stroke=\"black\" d=\"M973.604,-192.884C963.624,-181.446 952.445,-168.634 942.46,-157.19\"/>\r\n",
       "<polygon fill=\"black\" stroke=\"black\" points=\"944.979,-154.754 935.767,-149.52 939.705,-159.356 944.979,-154.754\"/>\r\n",
       "</g>\r\n",
       "<!-- 28 -->\r\n",
       "<g id=\"node29\" class=\"node\"><title>28</title>\r\n",
       "<path fill=\"#e58139\" fill-opacity=\"0.937255\" stroke=\"black\" d=\"M1098.5,-157C1098.5,-157 996.5,-157 996.5,-157 990.5,-157 984.5,-151 984.5,-145 984.5,-145 984.5,-101 984.5,-101 984.5,-95 990.5,-89 996.5,-89 996.5,-89 1098.5,-89 1098.5,-89 1104.5,-89 1110.5,-95 1110.5,-101 1110.5,-101 1110.5,-145 1110.5,-145 1110.5,-151 1104.5,-157 1098.5,-157\"/>\r\n",
       "<text text-anchor=\"middle\" x=\"1047.5\" y=\"-141.8\" font-family=\"Helvetica,sans-Serif\" font-size=\"14.00\">Entropy &lt;= 0.965</text>\r\n",
       "<text text-anchor=\"middle\" x=\"1047.5\" y=\"-126.8\" font-family=\"Helvetica,sans-Serif\" font-size=\"14.00\">gini = 0.113</text>\r\n",
       "<text text-anchor=\"middle\" x=\"1047.5\" y=\"-111.8\" font-family=\"Helvetica,sans-Serif\" font-size=\"14.00\">samples = 50</text>\r\n",
       "<text text-anchor=\"middle\" x=\"1047.5\" y=\"-96.8\" font-family=\"Helvetica,sans-Serif\" font-size=\"14.00\">value = [47, 3]</text>\r\n",
       "</g>\r\n",
       "<!-- 26&#45;&gt;28 -->\r\n",
       "<g id=\"edge28\" class=\"edge\"><title>26&#45;&gt;28</title>\r\n",
       "<path fill=\"none\" stroke=\"black\" d=\"M1017.11,-192.884C1020.8,-184.511 1024.82,-175.401 1028.69,-166.631\"/>\r\n",
       "<polygon fill=\"black\" stroke=\"black\" points=\"1031.97,-167.861 1032.81,-157.299 1025.57,-165.036 1031.97,-167.861\"/>\r\n",
       "</g>\r\n",
       "<!-- 29 -->\r\n",
       "<g id=\"node30\" class=\"node\"><title>29</title>\r\n",
       "<path fill=\"#e58139\" fill-opacity=\"0.980392\" stroke=\"black\" d=\"M1028,-53C1028,-53 947,-53 947,-53 941,-53 935,-47 935,-41 935,-41 935,-12 935,-12 935,-6 941,-0 947,-0 947,-0 1028,-0 1028,-0 1034,-0 1040,-6 1040,-12 1040,-12 1040,-41 1040,-41 1040,-47 1034,-53 1028,-53\"/>\r\n",
       "<text text-anchor=\"middle\" x=\"987.5\" y=\"-37.8\" font-family=\"Helvetica,sans-Serif\" font-size=\"14.00\">gini = 0.041</text>\r\n",
       "<text text-anchor=\"middle\" x=\"987.5\" y=\"-22.8\" font-family=\"Helvetica,sans-Serif\" font-size=\"14.00\">samples = 48</text>\r\n",
       "<text text-anchor=\"middle\" x=\"987.5\" y=\"-7.8\" font-family=\"Helvetica,sans-Serif\" font-size=\"14.00\">value = [47, 1]</text>\r\n",
       "</g>\r\n",
       "<!-- 28&#45;&gt;29 -->\r\n",
       "<g id=\"edge29\" class=\"edge\"><title>28&#45;&gt;29</title>\r\n",
       "<path fill=\"none\" stroke=\"black\" d=\"M1026.51,-88.9485C1020.94,-80.1664 1014.91,-70.6629 1009.29,-61.815\"/>\r\n",
       "<polygon fill=\"black\" stroke=\"black\" points=\"1012.16,-59.8028 1003.84,-53.2367 1006.25,-63.5549 1012.16,-59.8028\"/>\r\n",
       "</g>\r\n",
       "<!-- 30 -->\r\n",
       "<g id=\"node31\" class=\"node\"><title>30</title>\r\n",
       "<path fill=\"#399de5\" stroke=\"black\" d=\"M1143,-53C1143,-53 1070,-53 1070,-53 1064,-53 1058,-47 1058,-41 1058,-41 1058,-12 1058,-12 1058,-6 1064,-0 1070,-0 1070,-0 1143,-0 1143,-0 1149,-0 1155,-6 1155,-12 1155,-12 1155,-41 1155,-41 1155,-47 1149,-53 1143,-53\"/>\r\n",
       "<text text-anchor=\"middle\" x=\"1106.5\" y=\"-37.8\" font-family=\"Helvetica,sans-Serif\" font-size=\"14.00\">gini = 0.0</text>\r\n",
       "<text text-anchor=\"middle\" x=\"1106.5\" y=\"-22.8\" font-family=\"Helvetica,sans-Serif\" font-size=\"14.00\">samples = 2</text>\r\n",
       "<text text-anchor=\"middle\" x=\"1106.5\" y=\"-7.8\" font-family=\"Helvetica,sans-Serif\" font-size=\"14.00\">value = [0, 2]</text>\r\n",
       "</g>\r\n",
       "<!-- 28&#45;&gt;30 -->\r\n",
       "<g id=\"edge30\" class=\"edge\"><title>28&#45;&gt;30</title>\r\n",
       "<path fill=\"none\" stroke=\"black\" d=\"M1068.14,-88.9485C1073.62,-80.1664 1079.55,-70.6629 1085.08,-61.815\"/>\r\n",
       "<polygon fill=\"black\" stroke=\"black\" points=\"1088.1,-63.5728 1090.43,-53.2367 1082.17,-59.8656 1088.1,-63.5728\"/>\r\n",
       "</g>\r\n",
       "<!-- 33 -->\r\n",
       "<g id=\"node34\" class=\"node\"><title>33</title>\r\n",
       "<path fill=\"#e58139\" fill-opacity=\"0.945098\" stroke=\"black\" d=\"M1338.5,-261C1338.5,-261 1228.5,-261 1228.5,-261 1222.5,-261 1216.5,-255 1216.5,-249 1216.5,-249 1216.5,-205 1216.5,-205 1216.5,-199 1222.5,-193 1228.5,-193 1228.5,-193 1338.5,-193 1338.5,-193 1344.5,-193 1350.5,-199 1350.5,-205 1350.5,-205 1350.5,-249 1350.5,-249 1350.5,-255 1344.5,-261 1338.5,-261\"/>\r\n",
       "<text text-anchor=\"middle\" x=\"1283.5\" y=\"-245.8\" font-family=\"Helvetica,sans-Serif\" font-size=\"14.00\">Curtosis &lt;= &#45;2.648</text>\r\n",
       "<text text-anchor=\"middle\" x=\"1283.5\" y=\"-230.8\" font-family=\"Helvetica,sans-Serif\" font-size=\"14.00\">gini = 0.098</text>\r\n",
       "<text text-anchor=\"middle\" x=\"1283.5\" y=\"-215.8\" font-family=\"Helvetica,sans-Serif\" font-size=\"14.00\">samples = 58</text>\r\n",
       "<text text-anchor=\"middle\" x=\"1283.5\" y=\"-200.8\" font-family=\"Helvetica,sans-Serif\" font-size=\"14.00\">value = [55, 3]</text>\r\n",
       "</g>\r\n",
       "<!-- 32&#45;&gt;33 -->\r\n",
       "<g id=\"edge33\" class=\"edge\"><title>32&#45;&gt;33</title>\r\n",
       "<path fill=\"none\" stroke=\"black\" d=\"M1286.2,-296.884C1285.88,-288.778 1285.54,-279.982 1285.2,-271.472\"/>\r\n",
       "<polygon fill=\"black\" stroke=\"black\" points=\"1288.7,-271.155 1284.81,-261.299 1281.7,-271.429 1288.7,-271.155\"/>\r\n",
       "</g>\r\n",
       "<!-- 36 -->\r\n",
       "<g id=\"node37\" class=\"node\"><title>36</title>\r\n",
       "<path fill=\"#e58139\" stroke=\"black\" d=\"M1470,-253.5C1470,-253.5 1381,-253.5 1381,-253.5 1375,-253.5 1369,-247.5 1369,-241.5 1369,-241.5 1369,-212.5 1369,-212.5 1369,-206.5 1375,-200.5 1381,-200.5 1381,-200.5 1470,-200.5 1470,-200.5 1476,-200.5 1482,-206.5 1482,-212.5 1482,-212.5 1482,-241.5 1482,-241.5 1482,-247.5 1476,-253.5 1470,-253.5\"/>\r\n",
       "<text text-anchor=\"middle\" x=\"1425.5\" y=\"-238.3\" font-family=\"Helvetica,sans-Serif\" font-size=\"14.00\">gini = 0.0</text>\r\n",
       "<text text-anchor=\"middle\" x=\"1425.5\" y=\"-223.3\" font-family=\"Helvetica,sans-Serif\" font-size=\"14.00\">samples = 340</text>\r\n",
       "<text text-anchor=\"middle\" x=\"1425.5\" y=\"-208.3\" font-family=\"Helvetica,sans-Serif\" font-size=\"14.00\">value = [340, 0]</text>\r\n",
       "</g>\r\n",
       "<!-- 32&#45;&gt;36 -->\r\n",
       "<g id=\"edge36\" class=\"edge\"><title>32&#45;&gt;36</title>\r\n",
       "<path fill=\"none\" stroke=\"black\" d=\"M1332.3,-296.884C1348.52,-284.896 1366.78,-271.399 1382.82,-259.549\"/>\r\n",
       "<polygon fill=\"black\" stroke=\"black\" points=\"1385.01,-262.279 1390.97,-253.52 1380.85,-256.649 1385.01,-262.279\"/>\r\n",
       "</g>\r\n",
       "<!-- 34 -->\r\n",
       "<g id=\"node35\" class=\"node\"><title>34</title>\r\n",
       "<path fill=\"#399de5\" fill-opacity=\"0.666667\" stroke=\"black\" d=\"M1260,-149.5C1260,-149.5 1187,-149.5 1187,-149.5 1181,-149.5 1175,-143.5 1175,-137.5 1175,-137.5 1175,-108.5 1175,-108.5 1175,-102.5 1181,-96.5 1187,-96.5 1187,-96.5 1260,-96.5 1260,-96.5 1266,-96.5 1272,-102.5 1272,-108.5 1272,-108.5 1272,-137.5 1272,-137.5 1272,-143.5 1266,-149.5 1260,-149.5\"/>\r\n",
       "<text text-anchor=\"middle\" x=\"1223.5\" y=\"-134.3\" font-family=\"Helvetica,sans-Serif\" font-size=\"14.00\">gini = 0.375</text>\r\n",
       "<text text-anchor=\"middle\" x=\"1223.5\" y=\"-119.3\" font-family=\"Helvetica,sans-Serif\" font-size=\"14.00\">samples = 4</text>\r\n",
       "<text text-anchor=\"middle\" x=\"1223.5\" y=\"-104.3\" font-family=\"Helvetica,sans-Serif\" font-size=\"14.00\">value = [1, 3]</text>\r\n",
       "</g>\r\n",
       "<!-- 33&#45;&gt;34 -->\r\n",
       "<g id=\"edge34\" class=\"edge\"><title>33&#45;&gt;34</title>\r\n",
       "<path fill=\"none\" stroke=\"black\" d=\"M1264.02,-192.884C1257.49,-181.776 1250.19,-169.372 1243.61,-158.184\"/>\r\n",
       "<polygon fill=\"black\" stroke=\"black\" points=\"1246.6,-156.365 1238.51,-149.52 1240.57,-159.914 1246.6,-156.365\"/>\r\n",
       "</g>\r\n",
       "<!-- 35 -->\r\n",
       "<g id=\"node36\" class=\"node\"><title>35</title>\r\n",
       "<path fill=\"#e58139\" stroke=\"black\" d=\"M1383,-149.5C1383,-149.5 1302,-149.5 1302,-149.5 1296,-149.5 1290,-143.5 1290,-137.5 1290,-137.5 1290,-108.5 1290,-108.5 1290,-102.5 1296,-96.5 1302,-96.5 1302,-96.5 1383,-96.5 1383,-96.5 1389,-96.5 1395,-102.5 1395,-108.5 1395,-108.5 1395,-137.5 1395,-137.5 1395,-143.5 1389,-149.5 1383,-149.5\"/>\r\n",
       "<text text-anchor=\"middle\" x=\"1342.5\" y=\"-134.3\" font-family=\"Helvetica,sans-Serif\" font-size=\"14.00\">gini = 0.0</text>\r\n",
       "<text text-anchor=\"middle\" x=\"1342.5\" y=\"-119.3\" font-family=\"Helvetica,sans-Serif\" font-size=\"14.00\">samples = 54</text>\r\n",
       "<text text-anchor=\"middle\" x=\"1342.5\" y=\"-104.3\" font-family=\"Helvetica,sans-Serif\" font-size=\"14.00\">value = [54, 0]</text>\r\n",
       "</g>\r\n",
       "<!-- 33&#45;&gt;35 -->\r\n",
       "<g id=\"edge35\" class=\"edge\"><title>33&#45;&gt;35</title>\r\n",
       "<path fill=\"none\" stroke=\"black\" d=\"M1302.66,-192.884C1309.08,-181.776 1316.26,-169.372 1322.73,-158.184\"/>\r\n",
       "<polygon fill=\"black\" stroke=\"black\" points=\"1325.76,-159.929 1327.74,-149.52 1319.7,-156.424 1325.76,-159.929\"/>\r\n",
       "</g>\r\n",
       "</g>\r\n",
       "</svg>\r\n"
      ],
      "text/plain": [
       "<graphviz.files.Source at 0x209c9c39438>"
      ]
     },
     "execution_count": 16,
     "metadata": {},
     "output_type": "execute_result"
    }
   ],
   "source": [
    "cut_tree = gs.best_estimator_\n",
    "dot_data = export_graphviz(cut_tree, filled=True, rounded=True, feature_names=X_train.columns, out_file=None)\n",
    "graphviz.Source(dot_data)"
   ]
  },
  {
   "cell_type": "markdown",
   "metadata": {},
   "source": [
    "8.)  Now we'll look at how well this new pruned tree does on the test dataset."
   ]
  },
  {
   "cell_type": "code",
   "execution_count": 17,
   "metadata": {},
   "outputs": [],
   "source": [
    "predictions = cut_tree.predict(X_test)"
   ]
  },
  {
   "cell_type": "code",
   "execution_count": 18,
   "metadata": {},
   "outputs": [
    {
     "data": {
      "text/plain": [
       "0.9672727272727273"
      ]
     },
     "execution_count": 18,
     "metadata": {},
     "output_type": "execute_result"
    }
   ],
   "source": [
    "accuracy_score(Y_test,predictions)"
   ]
  },
  {
   "cell_type": "markdown",
   "metadata": {},
   "source": [
    "As we can see, the accuracy score is actually somewhat lower than with the full tree.  And the pruned tree itself is basically about as large as the full tree.  Therefore in this instance I might actually stick with the full tree.\n",
    "\n",
    "I wouldn't mind some feedback around my logic here, as I'm not 100% confident in this result.  But based on the accuracy criteria I'm not sure how else to come to a different result.  Is it common depending on the nature of the problem that sometimes a full (or close to full tree) with very specific/stringent criteria for branching can be a good model to go with?  For example in this case, maybe the technology of imaging is so advanced/accurate that this is reasonable to correctly identify the response class this way?   "
   ]
  }
 ],
 "metadata": {
  "kernelspec": {
   "display_name": "Python 3",
   "language": "python",
   "name": "python3"
  },
  "language_info": {
   "codemirror_mode": {
    "name": "ipython",
    "version": 3
   },
   "file_extension": ".py",
   "mimetype": "text/x-python",
   "name": "python",
   "nbconvert_exporter": "python",
   "pygments_lexer": "ipython3",
   "version": "3.7.3"
  }
 },
 "nbformat": 4,
 "nbformat_minor": 2
}
